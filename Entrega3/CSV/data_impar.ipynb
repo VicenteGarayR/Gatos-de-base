{
 "cells": [
  {
   "cell_type": "code",
   "execution_count": 1,
   "metadata": {},
   "outputs": [],
   "source": [
    "import pandas as pd"
   ]
  },
  {
   "cell_type": "markdown",
   "metadata": {},
   "source": [
    "# Carga de Datos"
   ]
  },
  {
   "cell_type": "code",
   "execution_count": 4,
   "metadata": {},
   "outputs": [],
   "source": [
    "df_genero = pd.read_csv('DataImpares/genero.csv')\n",
    "df_multimedia = pd.read_csv('DataImpares/multimedia.csv')\n",
    "df_pago = pd.read_csv('DataImpares/pago.csv')\n",
    "df_proveedores = pd.read_csv('DataImpares/proveedores.csv')\n",
    "df_suscripciones = pd.read_csv('DataImpares/suscripciones.csv')\n",
    "df_usuarios = pd.read_csv('DataImpares/usuarios.csv')\n",
    "df_visualizaciones = pd.read_csv('DataImpares/visualizaciones.csv')"
   ]
  },
  {
   "cell_type": "markdown",
   "metadata": {},
   "source": [
    "## Genero"
   ]
  },
  {
   "cell_type": "code",
   "execution_count": null,
   "metadata": {},
   "outputs": [],
   "source": []
  }
 ],
 "metadata": {
  "kernelspec": {
   "display_name": "Python 3",
   "language": "python",
   "name": "python3"
  },
  "language_info": {
   "codemirror_mode": {
    "name": "ipython",
    "version": 3
   },
   "file_extension": ".py",
   "mimetype": "text/x-python",
   "name": "python",
   "nbconvert_exporter": "python",
   "pygments_lexer": "ipython3",
   "version": "3.11.6"
  }
 },
 "nbformat": 4,
 "nbformat_minor": 2
}
