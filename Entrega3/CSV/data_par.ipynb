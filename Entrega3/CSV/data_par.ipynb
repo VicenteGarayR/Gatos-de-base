{
 "cells": [
  {
   "cell_type": "code",
   "execution_count": 3,
   "metadata": {},
   "outputs": [],
   "source": [
    "import pandas as pd"
   ]
  },
  {
   "cell_type": "markdown",
   "metadata": {},
   "source": [
    "# Carga de Datos"
   ]
  },
  {
   "cell_type": "code",
   "execution_count": 6,
   "metadata": {},
   "outputs": [],
   "source": [
    "df_genero = pd.read_csv('DataPares/genero.csv')\n",
    "df_pagos = pd.read_csv('DataPares/pagos.csv')\n",
    "df_proveedores = pd.read_csv('DataPares/proveedores.csv')\n",
    "df_subscripciones = pd.read_csv('DataPares/subscripciones.csv')\n",
    "df_usuario_actividades = pd.read_csv('DataPares/usuario actividades.csv')\n",
    "df_usuario_proveedor = pd.read_csv('DataPares/usuario proveedor.csv')\n",
    "df_videojuego_genero = pd.read_csv('DataPares/videojuego genero.csv')\n",
    "df_videojuego = pd.read_csv('DataPares/videojuego.csv')"
   ]
  }
 ],
 "metadata": {
  "kernelspec": {
   "display_name": "Python 3",
   "language": "python",
   "name": "python3"
  },
  "language_info": {
   "codemirror_mode": {
    "name": "ipython",
    "version": 3
   },
   "file_extension": ".py",
   "mimetype": "text/x-python",
   "name": "python",
   "nbconvert_exporter": "python",
   "pygments_lexer": "ipython3",
   "version": "3.11.6"
  }
 },
 "nbformat": 4,
 "nbformat_minor": 2
}
